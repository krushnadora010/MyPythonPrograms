{
 "cells": [
  {
   "cell_type": "code",
   "execution_count": 3,
   "id": "541ce30c",
   "metadata": {
    "scrolled": true
   },
   "outputs": [
    {
     "name": "stdout",
     "output_type": "stream",
     "text": [
      "0     5\n",
      "1    10\n",
      "2    15\n",
      "3    20\n",
      "4    25\n",
      "dtype: int64\n"
     ]
    }
   ],
   "source": [
    "\n"
   ]
  },
  {
   "cell_type": "code",
   "execution_count": null,
   "id": "61b3c3bb",
   "metadata": {},
   "outputs": [],
   "source": [
    "import pandas as pd\n",
    "a=[5,10,15,20,25]\n",
    "var=pd.Series(a)\n",
    "print(var)\n"
   ]
  },
  {
   "cell_type": "code",
   "execution_count": 9,
   "id": "91ed5521",
   "metadata": {},
   "outputs": [
    {
     "name": "stdout",
     "output_type": "stream",
     "text": [
      "a    10.0\n",
      "b    20.0\n",
      "c    30.0\n",
      "d    40.0\n",
      "e    50.0\n",
      "f    60.0\n",
      "Name: python, dtype: float64\n",
      "<class 'pandas.core.series.Series'>\n",
      "40.0\n"
     ]
    }
   ],
   "source": [
    "x=[10,20,30,40,50,60]\n",
    "var=pd.Series(x,index=['a','b','c','d','e','f'],dtype=\"float\",name=\"python\")\n",
    "print(var)\n",
    "print(type(var))\n",
    "print(var[3])"
   ]
  },
  {
   "cell_type": "code",
   "execution_count": 10,
   "id": "4bffe118",
   "metadata": {},
   "outputs": [
    {
     "name": "stdout",
     "output_type": "stream",
     "text": [
      "name    [python, c, c++, java]\n",
      "rank              [1, 4, 3, 2]\n",
      "por           [10, 20, 30, 40]\n",
      "dtype: object\n"
     ]
    }
   ],
   "source": [
    "dict={'name':['python','c','c++','java'],\"rank\":[1,4,3,2],\"por\":[10,20,30,40]}\n",
    "var=pd.Series(dict)\n",
    "print(var)"
   ]
  },
  {
   "cell_type": "code",
   "execution_count": 12,
   "id": "8a1a02d9",
   "metadata": {},
   "outputs": [
    {
     "name": "stdout",
     "output_type": "stream",
     "text": [
      "1    10\n",
      "2    10\n",
      "3    10\n",
      "4    10\n",
      "5    10\n",
      "6    10\n",
      "7    10\n",
      "8    10\n",
      "dtype: int64\n",
      "<class 'pandas.core.series.Series'>\n"
     ]
    }
   ],
   "source": [
    "ser=pd.Series(10,index=[1,2,3,4,5,6,7,8])\n",
    "print(ser)\n",
    "print(type(ser))\n"
   ]
  },
  {
   "cell_type": "code",
   "execution_count": 13,
   "id": "da30f090",
   "metadata": {},
   "outputs": [
    {
     "name": "stdout",
     "output_type": "stream",
     "text": [
      "1    20.0\n",
      "2    20.0\n",
      "3    20.0\n",
      "4    20.0\n",
      "5     NaN\n",
      "6     NaN\n",
      "7     NaN\n",
      "8     NaN\n",
      "dtype: float64\n"
     ]
    }
   ],
   "source": [
    "ser1=pd.Series(10,index=[1,2,3,4,5,6,7,8])\n",
    "ser2=pd.Series(10,index=[1,2,3,4])\n",
    "print(ser1 + ser2)"
   ]
  },
  {
   "cell_type": "markdown",
   "id": "6deafad2",
   "metadata": {},
   "source": [
    "# DATAFRAME"
   ]
  },
  {
   "cell_type": "code",
   "execution_count": null,
   "id": "65725524",
   "metadata": {},
   "outputs": [],
   "source": []
  }
 ],
 "metadata": {
  "kernelspec": {
   "display_name": "Python 3 (ipykernel)",
   "language": "python",
   "name": "python3"
  },
  "language_info": {
   "codemirror_mode": {
    "name": "ipython",
    "version": 3
   },
   "file_extension": ".py",
   "mimetype": "text/x-python",
   "name": "python",
   "nbconvert_exporter": "python",
   "pygments_lexer": "ipython3",
   "version": "3.10.9"
  }
 },
 "nbformat": 4,
 "nbformat_minor": 5
}
